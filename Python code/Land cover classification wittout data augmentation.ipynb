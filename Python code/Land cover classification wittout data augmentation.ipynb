{
  "cells": [
    {
      "cell_type": "code",
      "execution_count": null,
      "metadata": {
        "id": "1ZloiIcGJpvu"
      },
      "outputs": [],
      "source": [
        "!pip install tensorflow"
      ]
    },
    {
      "cell_type": "code",
      "execution_count": 2,
      "metadata": {
        "id": "z9uxDpvHJx-x"
      },
      "outputs": [],
      "source": [
        "import tensorflow as tf"
      ]
    },
    {
      "cell_type": "markdown",
      "metadata": {
        "id": "JfL6Nc96J2We"
      },
      "source": [
        "# Making multiple image tiles from single tile"
      ]
    },
    {
      "cell_type": "code",
      "execution_count": null,
      "metadata": {
        "id": "QE8IAD6TJ9R-"
      },
      "outputs": [],
      "source": [
        "!pip install geotile==0.2.3"
      ]
    },
    {
      "cell_type": "code",
      "execution_count": 4,
      "metadata": {
        "id": "9QNPn6QPKD_U"
      },
      "outputs": [],
      "source": [
        "from geotile import GeoTile"
      ]
    },
    {
      "cell_type": "markdown",
      "metadata": {
        "id": "gIKzQTYzKJUt"
      },
      "source": [
        "Connect Google Drive"
      ]
    },
    {
      "cell_type": "code",
      "execution_count": 5,
      "metadata": {
        "colab": {
          "base_uri": "https://localhost:8080/"
        },
        "id": "wBAFFZHzKMGb",
        "outputId": "72fc038a-aaf9-4bf3-f82c-23f0cb063c8e"
      },
      "outputs": [
        {
          "name": "stdout",
          "output_type": "stream",
          "text": [
            "Mounted at /content/gdrive\n"
          ]
        }
      ],
      "source": [
        "from google.colab import drive\n",
        "drive.mount(\"/content/gdrive\")"
      ]
    },
    {
      "cell_type": "markdown",
      "metadata": {
        "id": "fLGShBnMMkuT"
      },
      "source": [
        "Creating tiles in several folders at once"
      ]
    },
    {
      "cell_type": "code",
      "execution_count": 6,
      "metadata": {
        "id": "hDze99zzL9aJ"
      },
      "outputs": [],
      "source": [
        "import os"
      ]
    },
    {
      "cell_type": "markdown",
      "metadata": {},
      "source": [
        "Five tiles are kept in five folders and five mask files are kept in five folders."
      ]
    },
    {
      "cell_type": "code",
      "execution_count": null,
      "metadata": {
        "id": "pvwVfVFKQNyI"
      },
      "outputs": [],
      "source": [
        "folder_paths = [\n",
        "    '/content/gdrive/MyDrive/Colab Notebooks/pc/Tiles/One',\n",
        "    '/content/gdrive/MyDrive/Colab Notebooks/pc/Tiles/Two',\n",
        "    '/content/gdrive/MyDrive/Colab Notebooks/pc/Tiles/Three',\n",
        "    '/content/gdrive/MyDrive/Colab Notebooks/pc/Masks/One',\n",
        "    '/content/gdrive/MyDrive/Colab Notebooks/pc/Masks/Three',\n",
        "    '/content/gdrive/MyDrive/Colab Notebooks/pc/Masks/Two'\n",
        "    # Add more folder paths as needed\n",
        "]\n",
        "# Iterate over each folder path and generate the tiles\n",
        "for folder_path in folder_paths:\n",
        "    os.chdir(folder_path)\n",
        "    image_files = os.listdir(folder_path)\n",
        "    # Create the output folder corresponding to the input folder\n",
        "    output_folder = os.path.join(folder_path, 'output')\n",
        "    os.makedirs(output_folder, exist_ok=True)\n",
        "\n",
        "    for image_file in image_files:\n",
        "        if image_file.endswith('.tif'):  # Modify the extension if needed\n",
        "            gt = GeoTile(image_file)\n",
        "            gt.generate_tiles(output_folder)\n"
      ]
    },
    {
      "cell_type": "markdown",
      "metadata": {},
      "source": [
        "Tiles from folder number one, two, four, and five are used for training and therefore are stored those in a sigle folder named 'train'. Tiles from the folder number three are used for testing and therefore are kept in the folder named 'test'. Both in train and test folders, there are two folders. One (images)is for storing the images and another (masks) is for storing the masks."
      ]
    },
    {
      "cell_type": "markdown",
      "metadata": {
        "id": "sQcKidlyhMj4"
      },
      "source": [
        "Checking the information of the image"
      ]
    },
    {
      "cell_type": "code",
      "execution_count": null,
      "metadata": {
        "id": "NnLxJpR2fnsZ"
      },
      "outputs": [],
      "source": [
        "import os\n",
        "os.chdir(r\"/content/gdrive/MyDrive/Colab Notebooks/pc1/train\")\n",
        "gt = GeoTile('10_i.tif')"
      ]
    },
    {
      "cell_type": "code",
      "execution_count": null,
      "metadata": {
        "colab": {
          "base_uri": "https://localhost:8080/"
        },
        "id": "wAXTgkXfgQD5",
        "outputId": "ebed3bb4-b8e3-469b-e310-be7a6dc0a314"
      },
      "outputs": [
        {
          "data": {
            "text/plain": [
              "256"
            ]
          },
          "execution_count": 24,
          "metadata": {},
          "output_type": "execute_result"
        }
      ],
      "source": [
        "gt.height"
      ]
    },
    {
      "cell_type": "code",
      "execution_count": null,
      "metadata": {
        "colab": {
          "base_uri": "https://localhost:8080/"
        },
        "id": "haTNXmTngXEq",
        "outputId": "6b83fb6e-168a-40f7-c5b6-814e0153276b"
      },
      "outputs": [
        {
          "data": {
            "text/plain": [
              "256"
            ]
          },
          "execution_count": 25,
          "metadata": {},
          "output_type": "execute_result"
        }
      ],
      "source": [
        "gt.width"
      ]
    },
    {
      "cell_type": "code",
      "execution_count": null,
      "metadata": {
        "colab": {
          "base_uri": "https://localhost:8080/"
        },
        "id": "87OUZjjahIzi",
        "outputId": "9e0e60a9-bd26-4e02-d165-e6d74a513266"
      },
      "outputs": [
        {
          "data": {
            "text/plain": [
              "{'driver': 'GTiff',\n",
              " 'dtype': 'uint8',\n",
              " 'nodata': None,\n",
              " 'width': 256,\n",
              " 'height': 256,\n",
              " 'count': 3,\n",
              " 'crs': CRS.from_epsg(32611),\n",
              " 'transform': Affine(0.5, 0.0, 464525.3746,\n",
              "        0.0, -0.5, 5920603.0729)}"
            ]
          },
          "execution_count": 26,
          "metadata": {},
          "output_type": "execute_result"
        }
      ],
      "source": [
        "gt.meta"
      ]
    },
    {
      "cell_type": "markdown",
      "metadata": {
        "id": "Ad45YQazYxKc"
      },
      "source": [
        "# Import necessary libraries"
      ]
    },
    {
      "cell_type": "code",
      "execution_count": 7,
      "metadata": {
        "id": "qpQ_OZyNY9EC"
      },
      "outputs": [],
      "source": [
        "import glob\n",
        "import numpy as np\n",
        "import matplotlib.pyplot as plt\n",
        "%matplotlib inline\n",
        "\n",
        "from PIL import Image\n",
        "\n",
        "from tensorflow.keras import Model\n",
        "from tensorflow.keras.layers import Input, Conv2D, MaxPooling2D, Conv2DTranspose, Concatenate, Dropout\n",
        "from tensorflow.keras.optimizers import Adam"
      ]
    },
    {
      "cell_type": "markdown",
      "metadata": {
        "id": "iOs85fyTZLdW"
      },
      "source": [
        "Connect google drive"
      ]
    },
    {
      "cell_type": "code",
      "execution_count": 8,
      "metadata": {
        "colab": {
          "base_uri": "https://localhost:8080/"
        },
        "id": "PC8BtC5QZNTY",
        "outputId": "3bcd5a45-f592-48ab-8771-ecb47ecb32af"
      },
      "outputs": [
        {
          "name": "stdout",
          "output_type": "stream",
          "text": [
            "Drive already mounted at /content/gdrive; to attempt to forcibly remount, call drive.mount(\"/content/gdrive\", force_remount=True).\n"
          ]
        }
      ],
      "source": [
        "from google.colab import drive\n",
        "drive.mount(\"/content/gdrive\")"
      ]
    },
    {
      "cell_type": "markdown",
      "metadata": {
        "id": "6qOxa7SvZXB-"
      },
      "source": [
        "Set the working directory"
      ]
    },
    {
      "cell_type": "code",
      "execution_count": 9,
      "metadata": {
        "id": "WtYsbaPYZZll"
      },
      "outputs": [],
      "source": [
        "import os\n",
        "os.chdir(r'/content/gdrive/MyDrive/Colab Notebooks/pc1')                  #Respective folder(s) in the drive"
      ]
    },
    {
      "cell_type": "markdown",
      "metadata": {
        "id": "hyQLZm4UZqnV"
      },
      "source": [
        "# Data Preprocessing"
      ]
    },
    {
      "cell_type": "markdown",
      "metadata": {},
      "source": [
        "Now, all the images and masks  for training are stored in one folder named 'training', and all the images and masks  for testing are stored in another folder named 'testing'. These training and testing folders are kept inside the 'Modeling' folder."
      ]
    },
    {
      "cell_type": "code",
      "execution_count": null,
      "metadata": {
        "colab": {
          "base_uri": "https://localhost:8080/"
        },
        "id": "u08UsuPdZtLF",
        "outputId": "fbbca825-2f33-4da7-acfa-0b76fc2b30ce"
      },
      "outputs": [
        {
          "name": "stdout",
          "output_type": "stream",
          "text": [
            "100 25\n"
          ]
        }
      ],
      "source": [
        "train_x = sorted(glob.glob('train/*_i.tif'))\n",
        "train_y = sorted(glob.glob('train/*_l.tif'))\n",
        "test_x = sorted(glob.glob('test/*_i.tif'))\n",
        "test_y = sorted(glob.glob('test/*_l.tif'))\n",
        "\n",
        "print(len(train_x), len(test_x))"
      ]
    },
    {
      "cell_type": "markdown",
      "metadata": {
        "id": "SU8_yrTEaTTl"
      },
      "source": [
        "Converting training image to numpy array"
      ]
    },
    {
      "cell_type": "code",
      "execution_count": null,
      "metadata": {
        "id": "mYhuQsZZaXBU"
      },
      "outputs": [],
      "source": [
        "train_xx = np.zeros((100, 256, 256, 3))\n",
        "train_yy = np.zeros((100, 256, 256, 1))\n",
        "for i, (img, mask) in enumerate(zip(train_x, train_y)):\n",
        "  # if i == 1:\n",
        "  #   break\n",
        "\n",
        "  img = Image.open(img)\n",
        "  np_img = np.array(img)\n",
        "  train_xx[i] = np_img\n",
        "\n",
        "  mask = Image.open(mask)\n",
        "  np_mask = np.array(mask).reshape(256, 256, 1)\n",
        "  train_yy[i] = np_mask"
      ]
    },
    {
      "cell_type": "markdown",
      "metadata": {
        "id": "GUIEBAt1dD39"
      },
      "source": [
        "Converting testing image to numpy array"
      ]
    },
    {
      "cell_type": "code",
      "execution_count": null,
      "metadata": {
        "id": "5u9xtLqjdHim"
      },
      "outputs": [],
      "source": [
        "test_xx = np.zeros((25, 256, 256, 3))\n",
        "test_yy = np.zeros((25, 256, 256, 1))\n",
        "for i, (img, mask) in enumerate(zip(test_x, test_y)):\n",
        "\n",
        "  img = Image.open(img)\n",
        "  np_img = np.array(img)\n",
        "  test_xx[i] = np_img\n",
        "\n",
        "  mask = Image.open(mask)\n",
        "  np_mask = np.array(mask).reshape(256, 256, 1)\n",
        "  test_yy[i] = np_mask"
      ]
    },
    {
      "cell_type": "markdown",
      "metadata": {
        "id": "fe-M-mMjdyVK"
      },
      "source": [
        "Let's plot a sample input RGB image and output image with classes"
      ]
    },
    {
      "cell_type": "code",
      "execution_count": null,
      "metadata": {
        "id": "5RHmWuZcd2xO"
      },
      "outputs": [],
      "source": [
        "plt.imshow(train_xx[20, :, :, :].astype('uint8'))\n",
        "plt.show()\n",
        "plt.imshow(train_yy[20, :, :, 0].astype('uint8'))\n",
        "plt.show()"
      ]
    },
    {
      "cell_type": "markdown",
      "metadata": {
        "id": "1P_vS76CeTqh"
      },
      "source": [
        "# Save to numpy format"
      ]
    },
    {
      "cell_type": "code",
      "execution_count": null,
      "metadata": {
        "colab": {
          "base_uri": "https://localhost:8080/"
        },
        "id": "OLPnIz-GeWW7",
        "outputId": "c582e212-6836-4ff1-cc97-36f4203f398d"
      },
      "outputs": [
        {
          "data": {
            "text/plain": [
              "(50, 256, 256, 3)"
            ]
          },
          "execution_count": 14,
          "metadata": {},
          "output_type": "execute_result"
        }
      ],
      "source": [
        "train_xx.shape"
      ]
    },
    {
      "cell_type": "code",
      "execution_count": null,
      "metadata": {
        "colab": {
          "base_uri": "https://localhost:8080/"
        },
        "id": "H3eBuYJPha1x",
        "outputId": "35d3c960-f299-442d-fddc-910a86f4ccde"
      },
      "outputs": [
        {
          "data": {
            "text/plain": [
              "(50, 256, 256, 1)"
            ]
          },
          "execution_count": 27,
          "metadata": {},
          "output_type": "execute_result"
        }
      ],
      "source": [
        "train_yy.shape"
      ]
    },
    {
      "cell_type": "code",
      "execution_count": null,
      "metadata": {
        "id": "VGkc_AJWep-z"
      },
      "outputs": [],
      "source": [
        "np.save('train_xx.npy', train_xx)\n",
        "np.save('train_yy.npy', train_yy)\n",
        "np.save(\"test_xx.npy\", test_xx)\n",
        "np.save(\"test_yy.npy\", test_yy)"
      ]
    },
    {
      "cell_type": "markdown",
      "metadata": {
        "id": "t4yYcOTSjGI-"
      },
      "source": [
        "# Data for land use land cover mapping"
      ]
    },
    {
      "cell_type": "markdown",
      "metadata": {
        "id": "YvdQUgEOjMTE"
      },
      "source": [
        "Input data are RGB satellite images. And output are images of land cover type. There are 6 land cover types as below,\n",
        "\n",
        "- Pixel value 1: Road\n",
        "- Pixel value 2: Building\n",
        "- Pixel value 3: Needle leaf\n",
        "- Pixel value 4: Broad leaf\n",
        "- Pixel value 5: Barren land\n",
        "- Pixel value 6: Unlabelled\n"
      ]
    },
    {
      "cell_type": "markdown",
      "metadata": {
        "id": "sx2xcPNllm6p"
      },
      "source": [
        "Set the working directory"
      ]
    },
    {
      "cell_type": "code",
      "execution_count": 10,
      "metadata": {
        "id": "tfsJqv6OkDeh"
      },
      "outputs": [],
      "source": [
        "import os\n",
        "os.chdir(r'/content/gdrive/MyDrive/Colab Notebooks/pc1')                    #Respective folder(s) in the drive"
      ]
    },
    {
      "cell_type": "markdown",
      "metadata": {
        "id": "Pm5hpU1Zl66P"
      },
      "source": [
        "Data is already randomized and split in to training / test sets. So we can go ahead and use them as it is."
      ]
    },
    {
      "cell_type": "code",
      "execution_count": 11,
      "metadata": {
        "colab": {
          "base_uri": "https://localhost:8080/"
        },
        "id": "7d8VWPN5l8yA",
        "outputId": "ab8dfc27-4b52-4694-b090-b4cc08aa49fa"
      },
      "outputs": [
        {
          "name": "stdout",
          "output_type": "stream",
          "text": [
            "x_train shape (100, 256, 256, 3)\n",
            "y_train shape (100, 256, 256, 1)\n",
            "y_test shape (25, 256, 256, 3)\n",
            "y_test shape (25, 256, 256, 1)\n"
          ]
        }
      ],
      "source": [
        "x_train = np.load('train_xx.npy').astype('float32')\n",
        "y_train= np.load('train_yy.npy').astype('float32')\n",
        "x_test = np.load('test_xx.npy').astype('float32')\n",
        "y_test = np.load('test_yy.npy').astype('float32')\n",
        "\n",
        "print(\"x_train shape\", x_train.shape)\n",
        "print(\"y_train shape\", y_train.shape)\n",
        "print(\"y_test shape\", x_test.shape)\n",
        "print(\"y_test shape\", y_test.shape)"
      ]
    },
    {
      "cell_type": "markdown",
      "metadata": {
        "id": "4rZB_5POmz5K"
      },
      "source": [
        "Let's plot a sample input RGB image and output image with land cover"
      ]
    },
    {
      "cell_type": "code",
      "execution_count": null,
      "metadata": {
        "id": "_np7foMvm3TO"
      },
      "outputs": [],
      "source": [
        "plt.imshow(x_test[3,:,:,:].astype('uint8'))\n",
        "plt.show()\n",
        "\n",
        "plt.imshow(y_test[3,:,:,0].astype('uint8'))\n",
        "plt.show()"
      ]
    },
    {
      "cell_type": "markdown",
      "metadata": {
        "id": "rzN7zDgPnM1w"
      },
      "source": [
        "Since land cover data include classes, let's perform one-hot encoding first."
      ]
    },
    {
      "cell_type": "code",
      "execution_count": 12,
      "metadata": {
        "colab": {
          "base_uri": "https://localhost:8080/"
        },
        "id": "PhDKPOHznPfR",
        "outputId": "606affaa-7364-4041-9cb3-70b4ec0b4078"
      },
      "outputs": [
        {
          "data": {
            "text/plain": [
              "(100, 256, 256, 7)"
            ]
          },
          "execution_count": 12,
          "metadata": {},
          "output_type": "execute_result"
        }
      ],
      "source": [
        "from tensorflow.keras.utils import to_categorical\n",
        "\n",
        "y_train_1hot = to_categorical(y_train)\n",
        "y_test_1hot = to_categorical(y_test)\n",
        "\n",
        "y_train_1hot.shape"
      ]
    },
    {
      "cell_type": "markdown",
      "metadata": {
        "id": "yDP5pbLqnm8X"
      },
      "source": [
        "# Model development (Unet)"
      ]
    },
    {
      "cell_type": "code",
      "execution_count": 13,
      "metadata": {
        "colab": {
          "base_uri": "https://localhost:8080/"
        },
        "id": "nwsSxIQRnn_P",
        "outputId": "5dbaadaa-5dd6-4c91-dab4-8d53face83d2"
      },
      "outputs": [
        {
          "name": "stdout",
          "output_type": "stream",
          "text": [
            "Model: \"model\"\n",
            "__________________________________________________________________________________________________\n",
            " Layer (type)                   Output Shape         Param #     Connected to                     \n",
            "==================================================================================================\n",
            " input_1 (InputLayer)           [(None, 256, 256, 3  0           []                               \n",
            "                                )]                                                                \n",
            "                                                                                                  \n",
            " conv2d (Conv2D)                (None, 256, 256, 32  896         ['input_1[0][0]']                \n",
            "                                )                                                                 \n",
            "                                                                                                  \n",
            " dropout (Dropout)              (None, 256, 256, 32  0           ['conv2d[0][0]']                 \n",
            "                                )                                                                 \n",
            "                                                                                                  \n",
            " conv2d_1 (Conv2D)              (None, 256, 256, 32  9248        ['dropout[0][0]']                \n",
            "                                )                                                                 \n",
            "                                                                                                  \n",
            " max_pooling2d (MaxPooling2D)   (None, 128, 128, 32  0           ['conv2d_1[0][0]']               \n",
            "                                )                                                                 \n",
            "                                                                                                  \n",
            " conv2d_2 (Conv2D)              (None, 128, 128, 32  9248        ['max_pooling2d[0][0]']          \n",
            "                                )                                                                 \n",
            "                                                                                                  \n",
            " dropout_1 (Dropout)            (None, 128, 128, 32  0           ['conv2d_2[0][0]']               \n",
            "                                )                                                                 \n",
            "                                                                                                  \n",
            " conv2d_3 (Conv2D)              (None, 128, 128, 32  9248        ['dropout_1[0][0]']              \n",
            "                                )                                                                 \n",
            "                                                                                                  \n",
            " max_pooling2d_1 (MaxPooling2D)  (None, 64, 64, 32)  0           ['conv2d_3[0][0]']               \n",
            "                                                                                                  \n",
            " conv2d_4 (Conv2D)              (None, 64, 64, 64)   18496       ['max_pooling2d_1[0][0]']        \n",
            "                                                                                                  \n",
            " dropout_2 (Dropout)            (None, 64, 64, 64)   0           ['conv2d_4[0][0]']               \n",
            "                                                                                                  \n",
            " conv2d_5 (Conv2D)              (None, 64, 64, 64)   36928       ['dropout_2[0][0]']              \n",
            "                                                                                                  \n",
            " max_pooling2d_2 (MaxPooling2D)  (None, 32, 32, 64)  0           ['conv2d_5[0][0]']               \n",
            "                                                                                                  \n",
            " conv2d_6 (Conv2D)              (None, 32, 32, 64)   36928       ['max_pooling2d_2[0][0]']        \n",
            "                                                                                                  \n",
            " dropout_3 (Dropout)            (None, 32, 32, 64)   0           ['conv2d_6[0][0]']               \n",
            "                                                                                                  \n",
            " conv2d_7 (Conv2D)              (None, 32, 32, 64)   36928       ['dropout_3[0][0]']              \n",
            "                                                                                                  \n",
            " conv2d_transpose (Conv2DTransp  (None, 32, 32, 64)  36928       ['conv2d_7[0][0]']               \n",
            " ose)                                                                                             \n",
            "                                                                                                  \n",
            " dropout_4 (Dropout)            (None, 32, 32, 64)   0           ['conv2d_transpose[0][0]']       \n",
            "                                                                                                  \n",
            " conv2d_transpose_1 (Conv2DTran  (None, 64, 64, 64)  36928       ['dropout_4[0][0]']              \n",
            " spose)                                                                                           \n",
            "                                                                                                  \n",
            " concatenate (Concatenate)      (None, 64, 64, 128)  0           ['conv2d_transpose_1[0][0]',     \n",
            "                                                                  'conv2d_5[0][0]']               \n",
            "                                                                                                  \n",
            " conv2d_transpose_2 (Conv2DTran  (None, 64, 64, 64)  73792       ['concatenate[0][0]']            \n",
            " spose)                                                                                           \n",
            "                                                                                                  \n",
            " dropout_5 (Dropout)            (None, 64, 64, 64)   0           ['conv2d_transpose_2[0][0]']     \n",
            "                                                                                                  \n",
            " conv2d_transpose_3 (Conv2DTran  (None, 128, 128, 64  36928      ['dropout_5[0][0]']              \n",
            " spose)                         )                                                                 \n",
            "                                                                                                  \n",
            " concatenate_1 (Concatenate)    (None, 128, 128, 96  0           ['conv2d_transpose_3[0][0]',     \n",
            "                                )                                 'conv2d_3[0][0]']               \n",
            "                                                                                                  \n",
            " conv2d_transpose_4 (Conv2DTran  (None, 128, 128, 32  27680      ['concatenate_1[0][0]']          \n",
            " spose)                         )                                                                 \n",
            "                                                                                                  \n",
            " dropout_6 (Dropout)            (None, 128, 128, 32  0           ['conv2d_transpose_4[0][0]']     \n",
            "                                )                                                                 \n",
            "                                                                                                  \n",
            " conv2d_transpose_5 (Conv2DTran  (None, 256, 256, 32  9248       ['dropout_6[0][0]']              \n",
            " spose)                         )                                                                 \n",
            "                                                                                                  \n",
            " concatenate_2 (Concatenate)    (None, 256, 256, 64  0           ['conv2d_transpose_5[0][0]',     \n",
            "                                )                                 'conv2d_1[0][0]']               \n",
            "                                                                                                  \n",
            " conv2d_transpose_6 (Conv2DTran  (None, 256, 256, 32  18464      ['concatenate_2[0][0]']          \n",
            " spose)                         )                                                                 \n",
            "                                                                                                  \n",
            " dropout_7 (Dropout)            (None, 256, 256, 32  0           ['conv2d_transpose_6[0][0]']     \n",
            "                                )                                                                 \n",
            "                                                                                                  \n",
            " conv2d_transpose_7 (Conv2DTran  (None, 256, 256, 32  9248       ['dropout_7[0][0]']              \n",
            " spose)                         )                                                                 \n",
            "                                                                                                  \n",
            " conv2d_8 (Conv2D)              (None, 256, 256, 32  1056        ['conv2d_transpose_7[0][0]']     \n",
            "                                )                                                                 \n",
            "                                                                                                  \n",
            " conv2d_9 (Conv2D)              (None, 256, 256, 32  1056        ['conv2d_8[0][0]']               \n",
            "                                )                                                                 \n",
            "                                                                                                  \n",
            " conv2d_10 (Conv2D)             (None, 256, 256, 7)  231         ['conv2d_9[0][0]']               \n",
            "                                                                                                  \n",
            "==================================================================================================\n",
            "Total params: 409,479\n",
            "Trainable params: 409,479\n",
            "Non-trainable params: 0\n",
            "__________________________________________________________________________________________________\n"
          ]
        }
      ],
      "source": [
        "x_in = Input(shape=(256, 256, 3))\n",
        "\n",
        "'''Encoder'''\n",
        "x_temp = Conv2D(32, (3, 3), activation='relu', padding='same')(x_in)\n",
        "x_temp = Dropout(0.25)(x_temp)\n",
        "x_skip1 = Conv2D(32, (3, 3), activation='relu', padding='same')(x_temp)\n",
        "x_temp = MaxPooling2D((2,2))(x_skip1)\n",
        "x_temp = Conv2D(32, (3, 3), activation='relu', padding='same')(x_temp)\n",
        "x_temp = Dropout(0.25)(x_temp)\n",
        "x_skip2 = Conv2D(32, (3, 3), activation='relu', padding='same')(x_temp)\n",
        "x_temp = MaxPooling2D((2,2))(x_skip2)\n",
        "x_temp = Conv2D(64, (3, 3), activation='relu', padding='same')(x_temp)\n",
        "x_temp = Dropout(0.25)(x_temp)\n",
        "x_skip3 = Conv2D(64, (3, 3), activation='relu', padding='same')(x_temp)\n",
        "x_temp = MaxPooling2D((2,2))(x_skip3)\n",
        "x_temp = Conv2D(64, (3, 3), activation='relu', padding='same')(x_temp)\n",
        "x_temp = Dropout(0.5)(x_temp)\n",
        "x_temp = Conv2D(64, (3, 3), activation='relu', padding='same')(x_temp)\n",
        "\n",
        "'''Decoder'''\n",
        "x_temp = Conv2DTranspose(64, (3, 3), activation='relu',  padding='same')(x_temp)\n",
        "x_temp = Dropout(0.5)(x_temp)\n",
        "x_temp = Conv2DTranspose(64, (3, 3), strides=(2, 2), activation='relu',  padding='same')(x_temp)\n",
        "x_temp = Concatenate()([x_temp, x_skip3])\n",
        "x_temp = Conv2DTranspose(64, (3, 3), activation='relu',  padding='same')(x_temp)\n",
        "x_temp = Dropout(0.5)(x_temp)\n",
        "x_temp = Conv2DTranspose(64, (3, 3), strides=(2, 2), activation='relu',  padding='same')(x_temp)\n",
        "x_temp = Concatenate()([x_temp, x_skip2])\n",
        "x_temp = Conv2DTranspose(32, (3, 3), activation='relu',  padding='same')(x_temp)\n",
        "x_temp = Dropout(0.5)(x_temp)\n",
        "x_temp = Conv2DTranspose(32, (3, 3), strides=(2, 2), activation='relu',  padding='same')(x_temp)\n",
        "x_temp = Concatenate()([x_temp, x_skip1])\n",
        "x_temp = Conv2DTranspose(32, (3, 3), activation='relu',  padding='same')(x_temp)\n",
        "x_temp = Dropout(0.5)(x_temp)\n",
        "x_temp = Conv2DTranspose(32, (3, 3), activation='relu',  padding='same')(x_temp)\n",
        "\n",
        "'''Use 1 by 1 Convolution to get desired output bands'''\n",
        "x_temp = Conv2D(32, (1, 1), activation='relu', padding='same')(x_temp)\n",
        "x_temp = Conv2D(32, (1, 1), activation='relu', padding='same')(x_temp)\n",
        "x_out = Conv2D(7, (1, 1), activation='sigmoid', padding='same')(x_temp)\n",
        "\n",
        "model = Model(inputs=x_in, outputs=x_out)\n",
        "\n",
        "model.compile(loss='categorical_crossentropy', optimizer=Adam(learning_rate=0.001), metrics=['accuracy'])\n",
        "\n",
        "model.summary()"
      ]
    },
    {
      "cell_type": "code",
      "execution_count": null,
      "metadata": {
        "colab": {
          "base_uri": "https://localhost:8080/"
        },
        "id": "znjxbjCroNSR",
        "outputId": "1ad02ddf-cccf-458d-e833-2d5d3a2e87c3"
      },
      "outputs": [],
      "source": [
        "history = model.fit(x_train, y_train_1hot, validation_data=(x_test, y_test_1hot), epochs=110, batch_size=18, verbose=1)"
      ]
    },
    {
      "cell_type": "markdown",
      "metadata": {
        "id": "SVeS5H4H_P0n"
      },
      "source": [
        "Plot the loss"
      ]
    },
    {
      "cell_type": "code",
      "execution_count": null,
      "metadata": {
        "id": "qgdD3LzKidO_"
      },
      "outputs": [],
      "source": [
        "fig, (ax1, ax2) = plt.subplots(1, 2, figsize=(10, 5))\n",
        "ax1.plot(history.history['accuracy'])\n",
        "ax1.plot(history.history['val_accuracy'])\n",
        "ax1.set_xlabel('Epoch')\n",
        "ax1.set_ylabel('Accuracy')\n",
        "ax1.set_title('Accuracy over epoch')\n",
        "ax1.legend(['Train', 'Test'], loc='upper right')\n",
        "\n",
        "ax2.plot(history.history['loss'])\n",
        "ax2.plot(history.history['val_loss'])\n",
        "ax2.set_xlabel('Epoch')\n",
        "ax2.set_ylabel('Loss')\n",
        "ax2.set_title('Loss over epoch')\n",
        "ax2.legend(['Train', 'Test'], loc=\"upper right\")\n",
        "\n",
        "plt.savefig('/content/gdrive/MyDrive/Colab Notebooks/pc1/figure.png')                   #Respective folder(s) in the drive"
      ]
    },
    {
      "cell_type": "markdown",
      "metadata": {
        "id": "3HYdKjJr_mw-"
      },
      "source": [
        "#Prediction"
      ]
    },
    {
      "cell_type": "code",
      "execution_count": 15,
      "metadata": {
        "colab": {
          "base_uri": "https://localhost:8080/"
        },
        "id": "vMi8LBVo_oxi",
        "outputId": "772b1658-a1f7-4d6d-b566-0faafaccccb6"
      },
      "outputs": [
        {
          "name": "stdout",
          "output_type": "stream",
          "text": [
            "1/1 [==============================] - 4s 4s/step\n",
            "(25, 256, 256)\n"
          ]
        }
      ],
      "source": [
        "'''Prediction over the test dataset'''\n",
        "pred_test = model.predict(x_test)\n",
        "\n",
        "pred_test = np.argmax(pred_test, axis=-1)\n",
        "print(pred_test.shape)"
      ]
    },
    {
      "cell_type": "code",
      "execution_count": null,
      "metadata": {
        "colab": {
          "base_uri": "https://localhost:8080/"
        },
        "id": "5SeKRyHOG_M7",
        "outputId": "e39a4905-7289-4087-8d11-23e535fba647"
      },
      "outputs": [
        {
          "name": "stdout",
          "output_type": "stream",
          "text": [
            "Predicted images saved successfully.\n"
          ]
        }
      ],
      "source": [
        "from PIL import Image\n",
        "import numpy as np\n",
        "import os\n",
        "\n",
        "# Create a directory to store the predicted images\n",
        "save_dir = '/content/gdrive/MyDrive/Colab Notebooks/predicted_images_withoutAugmentation'\n",
        "os.makedirs(save_dir, exist_ok=True)\n",
        "\n",
        "# Save each predicted image to the directory\n",
        "for i in range(pred_test.shape[0]):\n",
        "    image = pred_test[i, :, :]\n",
        "    image = np.uint8(image * 255)  # Convert to uint8\n",
        "    image = np.squeeze(image)  # Remove the single-channel dimension if present\n",
        "    image_path = os.path.join(save_dir, f'predicted_image_{i}.png')\n",
        "    Image.fromarray(image).save(image_path)\n",
        "\n",
        "print(\"Predicted images saved successfully.\")"
      ]
    },
    {
      "cell_type": "markdown",
      "metadata": {
        "id": "63nHxrJeGm0I"
      },
      "source": []
    },
    {
      "cell_type": "markdown",
      "metadata": {
        "id": "E3LrpLcz_wbP"
      },
      "source": [
        "let's compare sample predicted and actual land cover image with input RGB image"
      ]
    },
    {
      "cell_type": "code",
      "execution_count": null,
      "metadata": {
        "id": "b3P82388_0WL"
      },
      "outputs": [],
      "source": [
        "plt.imshow(pred_test[23, :, :])\n",
        "plt.show()\n",
        "plt.imshow(y_test[23, :, :, 0])\n",
        "plt.show()\n",
        "plt.imshow(x_test[23,:,:,:].astype('uint8'))\n",
        "plt.show()"
      ]
    }
  ],
  "metadata": {
    "accelerator": "GPU",
    "colab": {
      "gpuType": "T4",
      "provenance": []
    },
    "kernelspec": {
      "display_name": "Python 3",
      "name": "python3"
    },
    "language_info": {
      "name": "python"
    }
  },
  "nbformat": 4,
  "nbformat_minor": 0
}
